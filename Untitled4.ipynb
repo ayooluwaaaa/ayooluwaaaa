{
  "nbformat": 4,
  "nbformat_minor": 0,
  "metadata": {
    "colab": {
      "provenance": [],
      "toc_visible": true,
      "authorship_tag": "ABX9TyOJQZtVi1m0R6UAX36ppJJQ",
      "include_colab_link": true
    },
    "kernelspec": {
      "name": "python3",
      "display_name": "Python 3"
    },
    "language_info": {
      "name": "python"
    }
  },
  "cells": [
    {
      "cell_type": "markdown",
      "metadata": {
        "id": "view-in-github",
        "colab_type": "text"
      },
      "source": [
        "<a href=\"https://colab.research.google.com/github/ayooluwaaaa/ayooluwaaaa/blob/main/Untitled4.ipynb\" target=\"_parent\"><img src=\"https://colab.research.google.com/assets/colab-badge.svg\" alt=\"Open In Colab\"/></a>"
      ]
    },
    {
      "cell_type": "code",
      "execution_count": 5,
      "metadata": {
        "colab": {
          "base_uri": "https://localhost:8080/"
        },
        "id": "wht25ozBf8pu",
        "outputId": "4f49bd98-cc5f-45c6-cf46-3ac24ecb842e"
      },
      "outputs": [
        {
          "output_type": "stream",
          "name": "stdout",
          "text": [
            "  Names  Ages       Cities\n",
            "0   Ayo    20     New York\n",
            "1  Demi    21  Los Angeles\n",
            "2  Bolu    22      Chicago\n"
          ]
        }
      ],
      "source": [
        "import pandas as pd\n",
        "\n",
        "dict1 = {\n",
        "    \"Names\": [\"Ayo\", \"Demi\", \"Bolu\"],\n",
        "    \"Ages\": [20, 21, 22],\n",
        "    \"Cities\": [\"New York\", \"Los Angeles\", \"Chicago\"],\n",
        "}\n",
        "df = pd.DataFrame(dict1)\n",
        "print(df)"
      ]
    },
    {
      "cell_type": "markdown",
      "source": [],
      "metadata": {
        "id": "elVcgqakjgPa"
      }
    }
  ]
}